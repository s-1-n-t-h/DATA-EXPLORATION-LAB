{
 "cells": [
  {
   "cell_type": "code",
   "execution_count": 1,
   "id": "db4e475f",
   "metadata": {},
   "outputs": [],
   "source": [
    "# 8 - handling missing values"
   ]
  },
  {
   "cell_type": "code",
   "execution_count": 2,
   "id": "36aa07a8",
   "metadata": {},
   "outputs": [],
   "source": [
    "import pandas as pd"
   ]
  },
  {
   "cell_type": "code",
   "execution_count": 18,
   "id": "876566d4",
   "metadata": {},
   "outputs": [],
   "source": [
    "data_source = pd.read_csv('electronic-card-transactions-april-2022-csv-tables.csv')"
   ]
  },
  {
   "cell_type": "code",
   "execution_count": 19,
   "id": "d1dc72eb",
   "metadata": {},
   "outputs": [],
   "source": [
    "data_frame = pd.DataFrame(data_source)"
   ]
  },
  {
   "cell_type": "code",
   "execution_count": 20,
   "id": "b7f7d3af",
   "metadata": {},
   "outputs": [
    {
     "data": {
      "text/plain": [
       "Series_reference        0\n",
       "Period                  0\n",
       "Data_value           1611\n",
       "Suppressed          18146\n",
       "STATUS                  0\n",
       "UNITS                   0\n",
       "Magnitude               0\n",
       "Subject                 0\n",
       "Group                   0\n",
       "Series_title_1          0\n",
       "Series_title_2          0\n",
       "Series_title_3      14968\n",
       "Series_title_4      18636\n",
       "Series_title_5      18636\n",
       "dtype: int64"
      ]
     },
     "execution_count": 20,
     "metadata": {},
     "output_type": "execute_result"
    }
   ],
   "source": [
    "data_frame.isnull().sum()"
   ]
  },
  {
   "cell_type": "code",
   "execution_count": 21,
   "id": "1fa15aa4",
   "metadata": {},
   "outputs": [],
   "source": [
    "# a - dropna"
   ]
  },
  {
   "cell_type": "code",
   "execution_count": 22,
   "id": "7b0cf011",
   "metadata": {},
   "outputs": [
    {
     "data": {
      "text/plain": [
       "(18636, 14)"
      ]
     },
     "execution_count": 22,
     "metadata": {},
     "output_type": "execute_result"
    }
   ],
   "source": [
    "data_frame.shape"
   ]
  },
  {
   "cell_type": "code",
   "execution_count": 23,
   "id": "7fece78b",
   "metadata": {},
   "outputs": [
    {
     "data": {
      "text/plain": [
       "(0, 14)"
      ]
     },
     "execution_count": 23,
     "metadata": {},
     "output_type": "execute_result"
    }
   ],
   "source": [
    "data_frame.dropna(axis=0).shape"
   ]
  },
  {
   "cell_type": "code",
   "execution_count": 24,
   "id": "934da5c5",
   "metadata": {},
   "outputs": [
    {
     "data": {
      "text/plain": [
       "(18636, 14)"
      ]
     },
     "execution_count": 24,
     "metadata": {},
     "output_type": "execute_result"
    }
   ],
   "source": [
    "data_frame.dropna(axis=0,how='all').shape"
   ]
  },
  {
   "cell_type": "code",
   "execution_count": 25,
   "id": "c23e0791",
   "metadata": {},
   "outputs": [
    {
     "data": {
      "text/plain": [
       "(18636, 9)"
      ]
     },
     "execution_count": 25,
     "metadata": {},
     "output_type": "execute_result"
    }
   ],
   "source": [
    "data_frame.dropna(axis=1).shape #best out of 4"
   ]
  },
  {
   "cell_type": "code",
   "execution_count": 26,
   "id": "975bba98",
   "metadata": {},
   "outputs": [
    {
     "data": {
      "text/plain": [
       "(18636, 14)"
      ]
     },
     "execution_count": 26,
     "metadata": {},
     "output_type": "execute_result"
    }
   ],
   "source": [
    "data_frame.dropna(axis=0,how='all').shape"
   ]
  },
  {
   "cell_type": "code",
   "execution_count": 34,
   "id": "d0df76c0",
   "metadata": {},
   "outputs": [
    {
     "data": {
      "text/plain": [
       "Index(['Series_reference', 'Period', 'Data_value', 'Suppressed', 'STATUS',\n",
       "       'UNITS', 'Magnitude', 'Subject', 'Group', 'Series_title_1',\n",
       "       'Series_title_2', 'Series_title_3', 'Series_title_4', 'Series_title_5'],\n",
       "      dtype='object')"
      ]
     },
     "execution_count": 34,
     "metadata": {},
     "output_type": "execute_result"
    }
   ],
   "source": [
    "data_frame.columns"
   ]
  },
  {
   "cell_type": "code",
   "execution_count": 32,
   "id": "a24b232b",
   "metadata": {},
   "outputs": [
    {
     "data": {
      "text/plain": [
       "Index(['Series_reference', 'Period', 'STATUS', 'UNITS', 'Magnitude', 'Subject',\n",
       "       'Group', 'Series_title_1', 'Series_title_2'],\n",
       "      dtype='object')"
      ]
     },
     "execution_count": 32,
     "metadata": {},
     "output_type": "execute_result"
    }
   ],
   "source": [
    "data_frame.dropna(axis=1).columns"
   ]
  },
  {
   "cell_type": "code",
   "execution_count": 35,
   "id": "265e3497",
   "metadata": {},
   "outputs": [],
   "source": [
    "# data set obtained after dropping the null \n",
    "# values along the columns (axis = 1)"
   ]
  },
  {
   "cell_type": "code",
   "execution_count": 37,
   "id": "7448f49b",
   "metadata": {},
   "outputs": [
    {
     "data": {
      "text/html": [
       "<div>\n",
       "<style scoped>\n",
       "    .dataframe tbody tr th:only-of-type {\n",
       "        vertical-align: middle;\n",
       "    }\n",
       "\n",
       "    .dataframe tbody tr th {\n",
       "        vertical-align: top;\n",
       "    }\n",
       "\n",
       "    .dataframe thead th {\n",
       "        text-align: right;\n",
       "    }\n",
       "</style>\n",
       "<table border=\"1\" class=\"dataframe\">\n",
       "  <thead>\n",
       "    <tr style=\"text-align: right;\">\n",
       "      <th></th>\n",
       "      <th>Series_reference</th>\n",
       "      <th>Period</th>\n",
       "      <th>STATUS</th>\n",
       "      <th>UNITS</th>\n",
       "      <th>Magnitude</th>\n",
       "      <th>Subject</th>\n",
       "      <th>Group</th>\n",
       "      <th>Series_title_1</th>\n",
       "      <th>Series_title_2</th>\n",
       "    </tr>\n",
       "  </thead>\n",
       "  <tbody>\n",
       "    <tr>\n",
       "      <th>0</th>\n",
       "      <td>ECTA.S19A1</td>\n",
       "      <td>2001.03</td>\n",
       "      <td>F</td>\n",
       "      <td>Dollars</td>\n",
       "      <td>6</td>\n",
       "      <td>Electronic Card Transactions (ANZSIC06) - ECT</td>\n",
       "      <td>Total values - Electronic card transactions A/...</td>\n",
       "      <td>Actual</td>\n",
       "      <td>RTS total industries</td>\n",
       "    </tr>\n",
       "    <tr>\n",
       "      <th>1</th>\n",
       "      <td>ECTA.S19A1</td>\n",
       "      <td>2002.03</td>\n",
       "      <td>F</td>\n",
       "      <td>Dollars</td>\n",
       "      <td>6</td>\n",
       "      <td>Electronic Card Transactions (ANZSIC06) - ECT</td>\n",
       "      <td>Total values - Electronic card transactions A/...</td>\n",
       "      <td>Actual</td>\n",
       "      <td>RTS total industries</td>\n",
       "    </tr>\n",
       "    <tr>\n",
       "      <th>2</th>\n",
       "      <td>ECTA.S19A1</td>\n",
       "      <td>2003.03</td>\n",
       "      <td>F</td>\n",
       "      <td>Dollars</td>\n",
       "      <td>6</td>\n",
       "      <td>Electronic Card Transactions (ANZSIC06) - ECT</td>\n",
       "      <td>Total values - Electronic card transactions A/...</td>\n",
       "      <td>Actual</td>\n",
       "      <td>RTS total industries</td>\n",
       "    </tr>\n",
       "  </tbody>\n",
       "</table>\n",
       "</div>"
      ],
      "text/plain": [
       "  Series_reference   Period STATUS    UNITS  Magnitude  \\\n",
       "0       ECTA.S19A1  2001.03      F  Dollars          6   \n",
       "1       ECTA.S19A1  2002.03      F  Dollars          6   \n",
       "2       ECTA.S19A1  2003.03      F  Dollars          6   \n",
       "\n",
       "                                         Subject  \\\n",
       "0  Electronic Card Transactions (ANZSIC06) - ECT   \n",
       "1  Electronic Card Transactions (ANZSIC06) - ECT   \n",
       "2  Electronic Card Transactions (ANZSIC06) - ECT   \n",
       "\n",
       "                                               Group Series_title_1  \\\n",
       "0  Total values - Electronic card transactions A/...         Actual   \n",
       "1  Total values - Electronic card transactions A/...         Actual   \n",
       "2  Total values - Electronic card transactions A/...         Actual   \n",
       "\n",
       "         Series_title_2  \n",
       "0  RTS total industries  \n",
       "1  RTS total industries  \n",
       "2  RTS total industries  "
      ]
     },
     "execution_count": 37,
     "metadata": {},
     "output_type": "execute_result"
    }
   ],
   "source": [
    "data_frame.dropna(axis=1).head(3)"
   ]
  },
  {
   "cell_type": "code",
   "execution_count": null,
   "id": "fef22f3f",
   "metadata": {},
   "outputs": [],
   "source": []
  },
  {
   "cell_type": "code",
   "execution_count": 38,
   "id": "f8fd984d",
   "metadata": {},
   "outputs": [],
   "source": [
    "# b - fillna -- fills nullvalues with value given"
   ]
  },
  {
   "cell_type": "code",
   "execution_count": 41,
   "id": "2cdcde0a",
   "metadata": {},
   "outputs": [
    {
     "data": {
      "text/plain": [
       "Series_reference    0\n",
       "Period              0\n",
       "Data_value          0\n",
       "Suppressed          0\n",
       "STATUS              0\n",
       "UNITS               0\n",
       "Magnitude           0\n",
       "Subject             0\n",
       "Group               0\n",
       "Series_title_1      0\n",
       "Series_title_2      0\n",
       "Series_title_3      0\n",
       "Series_title_4      0\n",
       "Series_title_5      0\n",
       "dtype: int64"
      ]
     },
     "execution_count": 41,
     "metadata": {},
     "output_type": "execute_result"
    }
   ],
   "source": [
    "data_frame.fillna('Hello').isnull().sum()"
   ]
  },
  {
   "cell_type": "code",
   "execution_count": 44,
   "id": "3680c0b6",
   "metadata": {
    "scrolled": true
   },
   "outputs": [
    {
     "data": {
      "text/html": [
       "<div>\n",
       "<style scoped>\n",
       "    .dataframe tbody tr th:only-of-type {\n",
       "        vertical-align: middle;\n",
       "    }\n",
       "\n",
       "    .dataframe tbody tr th {\n",
       "        vertical-align: top;\n",
       "    }\n",
       "\n",
       "    .dataframe thead th {\n",
       "        text-align: right;\n",
       "    }\n",
       "</style>\n",
       "<table border=\"1\" class=\"dataframe\">\n",
       "  <thead>\n",
       "    <tr style=\"text-align: right;\">\n",
       "      <th></th>\n",
       "      <th>Series_reference</th>\n",
       "      <th>Period</th>\n",
       "      <th>Data_value</th>\n",
       "      <th>Suppressed</th>\n",
       "      <th>STATUS</th>\n",
       "      <th>UNITS</th>\n",
       "      <th>Magnitude</th>\n",
       "      <th>Subject</th>\n",
       "      <th>Group</th>\n",
       "      <th>Series_title_1</th>\n",
       "      <th>Series_title_2</th>\n",
       "      <th>Series_title_3</th>\n",
       "      <th>Series_title_4</th>\n",
       "      <th>Series_title_5</th>\n",
       "    </tr>\n",
       "  </thead>\n",
       "  <tbody>\n",
       "    <tr>\n",
       "      <th>0</th>\n",
       "      <td>ECTA.S19A1</td>\n",
       "      <td>2001.03</td>\n",
       "      <td>2462.5</td>\n",
       "      <td>Hello</td>\n",
       "      <td>F</td>\n",
       "      <td>Dollars</td>\n",
       "      <td>6</td>\n",
       "      <td>Electronic Card Transactions (ANZSIC06) - ECT</td>\n",
       "      <td>Total values - Electronic card transactions A/...</td>\n",
       "      <td>Actual</td>\n",
       "      <td>RTS total industries</td>\n",
       "      <td>Hello</td>\n",
       "      <td>Hello</td>\n",
       "      <td>Hello</td>\n",
       "    </tr>\n",
       "    <tr>\n",
       "      <th>1</th>\n",
       "      <td>ECTA.S19A1</td>\n",
       "      <td>2002.03</td>\n",
       "      <td>17177.2</td>\n",
       "      <td>Hello</td>\n",
       "      <td>F</td>\n",
       "      <td>Dollars</td>\n",
       "      <td>6</td>\n",
       "      <td>Electronic Card Transactions (ANZSIC06) - ECT</td>\n",
       "      <td>Total values - Electronic card transactions A/...</td>\n",
       "      <td>Actual</td>\n",
       "      <td>RTS total industries</td>\n",
       "      <td>Hello</td>\n",
       "      <td>Hello</td>\n",
       "      <td>Hello</td>\n",
       "    </tr>\n",
       "    <tr>\n",
       "      <th>2</th>\n",
       "      <td>ECTA.S19A1</td>\n",
       "      <td>2003.03</td>\n",
       "      <td>22530.5</td>\n",
       "      <td>Hello</td>\n",
       "      <td>F</td>\n",
       "      <td>Dollars</td>\n",
       "      <td>6</td>\n",
       "      <td>Electronic Card Transactions (ANZSIC06) - ECT</td>\n",
       "      <td>Total values - Electronic card transactions A/...</td>\n",
       "      <td>Actual</td>\n",
       "      <td>RTS total industries</td>\n",
       "      <td>Hello</td>\n",
       "      <td>Hello</td>\n",
       "      <td>Hello</td>\n",
       "    </tr>\n",
       "    <tr>\n",
       "      <th>3</th>\n",
       "      <td>ECTA.S19A1</td>\n",
       "      <td>2004.03</td>\n",
       "      <td>28005.1</td>\n",
       "      <td>Hello</td>\n",
       "      <td>F</td>\n",
       "      <td>Dollars</td>\n",
       "      <td>6</td>\n",
       "      <td>Electronic Card Transactions (ANZSIC06) - ECT</td>\n",
       "      <td>Total values - Electronic card transactions A/...</td>\n",
       "      <td>Actual</td>\n",
       "      <td>RTS total industries</td>\n",
       "      <td>Hello</td>\n",
       "      <td>Hello</td>\n",
       "      <td>Hello</td>\n",
       "    </tr>\n",
       "    <tr>\n",
       "      <th>4</th>\n",
       "      <td>ECTA.S19A1</td>\n",
       "      <td>2005.03</td>\n",
       "      <td>30629.6</td>\n",
       "      <td>Hello</td>\n",
       "      <td>F</td>\n",
       "      <td>Dollars</td>\n",
       "      <td>6</td>\n",
       "      <td>Electronic Card Transactions (ANZSIC06) - ECT</td>\n",
       "      <td>Total values - Electronic card transactions A/...</td>\n",
       "      <td>Actual</td>\n",
       "      <td>RTS total industries</td>\n",
       "      <td>Hello</td>\n",
       "      <td>Hello</td>\n",
       "      <td>Hello</td>\n",
       "    </tr>\n",
       "    <tr>\n",
       "      <th>5</th>\n",
       "      <td>ECTA.S19A1</td>\n",
       "      <td>2006.03</td>\n",
       "      <td>33317.4</td>\n",
       "      <td>Hello</td>\n",
       "      <td>F</td>\n",
       "      <td>Dollars</td>\n",
       "      <td>6</td>\n",
       "      <td>Electronic Card Transactions (ANZSIC06) - ECT</td>\n",
       "      <td>Total values - Electronic card transactions A/...</td>\n",
       "      <td>Actual</td>\n",
       "      <td>RTS total industries</td>\n",
       "      <td>Hello</td>\n",
       "      <td>Hello</td>\n",
       "      <td>Hello</td>\n",
       "    </tr>\n",
       "    <tr>\n",
       "      <th>6</th>\n",
       "      <td>ECTA.S19A1</td>\n",
       "      <td>2007.03</td>\n",
       "      <td>36422.0</td>\n",
       "      <td>Hello</td>\n",
       "      <td>F</td>\n",
       "      <td>Dollars</td>\n",
       "      <td>6</td>\n",
       "      <td>Electronic Card Transactions (ANZSIC06) - ECT</td>\n",
       "      <td>Total values - Electronic card transactions A/...</td>\n",
       "      <td>Actual</td>\n",
       "      <td>RTS total industries</td>\n",
       "      <td>Hello</td>\n",
       "      <td>Hello</td>\n",
       "      <td>Hello</td>\n",
       "    </tr>\n",
       "    <tr>\n",
       "      <th>7</th>\n",
       "      <td>ECTA.S19A1</td>\n",
       "      <td>2008.03</td>\n",
       "      <td>39198.0</td>\n",
       "      <td>Hello</td>\n",
       "      <td>F</td>\n",
       "      <td>Dollars</td>\n",
       "      <td>6</td>\n",
       "      <td>Electronic Card Transactions (ANZSIC06) - ECT</td>\n",
       "      <td>Total values - Electronic card transactions A/...</td>\n",
       "      <td>Actual</td>\n",
       "      <td>RTS total industries</td>\n",
       "      <td>Hello</td>\n",
       "      <td>Hello</td>\n",
       "      <td>Hello</td>\n",
       "    </tr>\n",
       "    <tr>\n",
       "      <th>8</th>\n",
       "      <td>ECTA.S19A1</td>\n",
       "      <td>2009.03</td>\n",
       "      <td>40629.4</td>\n",
       "      <td>Hello</td>\n",
       "      <td>F</td>\n",
       "      <td>Dollars</td>\n",
       "      <td>6</td>\n",
       "      <td>Electronic Card Transactions (ANZSIC06) - ECT</td>\n",
       "      <td>Total values - Electronic card transactions A/...</td>\n",
       "      <td>Actual</td>\n",
       "      <td>RTS total industries</td>\n",
       "      <td>Hello</td>\n",
       "      <td>Hello</td>\n",
       "      <td>Hello</td>\n",
       "    </tr>\n",
       "    <tr>\n",
       "      <th>9</th>\n",
       "      <td>ECTA.S19A1</td>\n",
       "      <td>2010.03</td>\n",
       "      <td>41815.4</td>\n",
       "      <td>Hello</td>\n",
       "      <td>F</td>\n",
       "      <td>Dollars</td>\n",
       "      <td>6</td>\n",
       "      <td>Electronic Card Transactions (ANZSIC06) - ECT</td>\n",
       "      <td>Total values - Electronic card transactions A/...</td>\n",
       "      <td>Actual</td>\n",
       "      <td>RTS total industries</td>\n",
       "      <td>Hello</td>\n",
       "      <td>Hello</td>\n",
       "      <td>Hello</td>\n",
       "    </tr>\n",
       "  </tbody>\n",
       "</table>\n",
       "</div>"
      ],
      "text/plain": [
       "  Series_reference   Period Data_value Suppressed STATUS    UNITS  Magnitude  \\\n",
       "0       ECTA.S19A1  2001.03     2462.5      Hello      F  Dollars          6   \n",
       "1       ECTA.S19A1  2002.03    17177.2      Hello      F  Dollars          6   \n",
       "2       ECTA.S19A1  2003.03    22530.5      Hello      F  Dollars          6   \n",
       "3       ECTA.S19A1  2004.03    28005.1      Hello      F  Dollars          6   \n",
       "4       ECTA.S19A1  2005.03    30629.6      Hello      F  Dollars          6   \n",
       "5       ECTA.S19A1  2006.03    33317.4      Hello      F  Dollars          6   \n",
       "6       ECTA.S19A1  2007.03    36422.0      Hello      F  Dollars          6   \n",
       "7       ECTA.S19A1  2008.03    39198.0      Hello      F  Dollars          6   \n",
       "8       ECTA.S19A1  2009.03    40629.4      Hello      F  Dollars          6   \n",
       "9       ECTA.S19A1  2010.03    41815.4      Hello      F  Dollars          6   \n",
       "\n",
       "                                         Subject  \\\n",
       "0  Electronic Card Transactions (ANZSIC06) - ECT   \n",
       "1  Electronic Card Transactions (ANZSIC06) - ECT   \n",
       "2  Electronic Card Transactions (ANZSIC06) - ECT   \n",
       "3  Electronic Card Transactions (ANZSIC06) - ECT   \n",
       "4  Electronic Card Transactions (ANZSIC06) - ECT   \n",
       "5  Electronic Card Transactions (ANZSIC06) - ECT   \n",
       "6  Electronic Card Transactions (ANZSIC06) - ECT   \n",
       "7  Electronic Card Transactions (ANZSIC06) - ECT   \n",
       "8  Electronic Card Transactions (ANZSIC06) - ECT   \n",
       "9  Electronic Card Transactions (ANZSIC06) - ECT   \n",
       "\n",
       "                                               Group Series_title_1  \\\n",
       "0  Total values - Electronic card transactions A/...         Actual   \n",
       "1  Total values - Electronic card transactions A/...         Actual   \n",
       "2  Total values - Electronic card transactions A/...         Actual   \n",
       "3  Total values - Electronic card transactions A/...         Actual   \n",
       "4  Total values - Electronic card transactions A/...         Actual   \n",
       "5  Total values - Electronic card transactions A/...         Actual   \n",
       "6  Total values - Electronic card transactions A/...         Actual   \n",
       "7  Total values - Electronic card transactions A/...         Actual   \n",
       "8  Total values - Electronic card transactions A/...         Actual   \n",
       "9  Total values - Electronic card transactions A/...         Actual   \n",
       "\n",
       "         Series_title_2 Series_title_3 Series_title_4 Series_title_5  \n",
       "0  RTS total industries          Hello          Hello          Hello  \n",
       "1  RTS total industries          Hello          Hello          Hello  \n",
       "2  RTS total industries          Hello          Hello          Hello  \n",
       "3  RTS total industries          Hello          Hello          Hello  \n",
       "4  RTS total industries          Hello          Hello          Hello  \n",
       "5  RTS total industries          Hello          Hello          Hello  \n",
       "6  RTS total industries          Hello          Hello          Hello  \n",
       "7  RTS total industries          Hello          Hello          Hello  \n",
       "8  RTS total industries          Hello          Hello          Hello  \n",
       "9  RTS total industries          Hello          Hello          Hello  "
      ]
     },
     "execution_count": 44,
     "metadata": {},
     "output_type": "execute_result"
    }
   ],
   "source": [
    "data_frame.fillna('Hello').head(10)"
   ]
  },
  {
   "cell_type": "code",
   "execution_count": null,
   "id": "4f2ddcc8",
   "metadata": {},
   "outputs": [],
   "source": []
  },
  {
   "cell_type": "code",
   "execution_count": 45,
   "id": "41cf47ce",
   "metadata": {},
   "outputs": [],
   "source": [
    "# c - Recognize and Treat missing values and outliers in Pandas"
   ]
  },
  {
   "cell_type": "code",
   "execution_count": 46,
   "id": "c4f96465",
   "metadata": {},
   "outputs": [],
   "source": [
    "# creating the dataset\n",
    "# Dataset used is Boston Housing dataset as it is preloaded in the sklearn library."
   ]
  },
  {
   "cell_type": "code",
   "execution_count": 55,
   "id": "52840761",
   "metadata": {},
   "outputs": [],
   "source": [
    "import sklearn\n",
    "from sklearn.datasets import load_boston"
   ]
  },
  {
   "cell_type": "code",
   "execution_count": 58,
   "id": "a7340f7d",
   "metadata": {
    "scrolled": false
   },
   "outputs": [],
   "source": [
    "bos_hou = load_boston() # loading dataset -- \n",
    "# comes as a dictionary"
   ]
  },
  {
   "cell_type": "code",
   "execution_count": 59,
   "id": "234e8233",
   "metadata": {},
   "outputs": [],
   "source": [
    "# create the data frame"
   ]
  },
  {
   "cell_type": "code",
   "execution_count": 61,
   "id": "99e0f497",
   "metadata": {},
   "outputs": [
    {
     "data": {
      "text/html": [
       "<div>\n",
       "<style scoped>\n",
       "    .dataframe tbody tr th:only-of-type {\n",
       "        vertical-align: middle;\n",
       "    }\n",
       "\n",
       "    .dataframe tbody tr th {\n",
       "        vertical-align: top;\n",
       "    }\n",
       "\n",
       "    .dataframe thead th {\n",
       "        text-align: right;\n",
       "    }\n",
       "</style>\n",
       "<table border=\"1\" class=\"dataframe\">\n",
       "  <thead>\n",
       "    <tr style=\"text-align: right;\">\n",
       "      <th></th>\n",
       "      <th>CRIM</th>\n",
       "      <th>ZN</th>\n",
       "      <th>INDUS</th>\n",
       "      <th>CHAS</th>\n",
       "      <th>NOX</th>\n",
       "      <th>RM</th>\n",
       "      <th>AGE</th>\n",
       "      <th>DIS</th>\n",
       "      <th>RAD</th>\n",
       "      <th>TAX</th>\n",
       "      <th>PTRATIO</th>\n",
       "      <th>B</th>\n",
       "      <th>LSTAT</th>\n",
       "    </tr>\n",
       "  </thead>\n",
       "  <tbody>\n",
       "    <tr>\n",
       "      <th>0</th>\n",
       "      <td>0.00632</td>\n",
       "      <td>18.0</td>\n",
       "      <td>2.31</td>\n",
       "      <td>0.0</td>\n",
       "      <td>0.538</td>\n",
       "      <td>6.575</td>\n",
       "      <td>65.2</td>\n",
       "      <td>4.0900</td>\n",
       "      <td>1.0</td>\n",
       "      <td>296.0</td>\n",
       "      <td>15.3</td>\n",
       "      <td>396.90</td>\n",
       "      <td>4.98</td>\n",
       "    </tr>\n",
       "    <tr>\n",
       "      <th>1</th>\n",
       "      <td>0.02731</td>\n",
       "      <td>0.0</td>\n",
       "      <td>7.07</td>\n",
       "      <td>0.0</td>\n",
       "      <td>0.469</td>\n",
       "      <td>6.421</td>\n",
       "      <td>78.9</td>\n",
       "      <td>4.9671</td>\n",
       "      <td>2.0</td>\n",
       "      <td>242.0</td>\n",
       "      <td>17.8</td>\n",
       "      <td>396.90</td>\n",
       "      <td>9.14</td>\n",
       "    </tr>\n",
       "    <tr>\n",
       "      <th>2</th>\n",
       "      <td>0.02729</td>\n",
       "      <td>0.0</td>\n",
       "      <td>7.07</td>\n",
       "      <td>0.0</td>\n",
       "      <td>0.469</td>\n",
       "      <td>7.185</td>\n",
       "      <td>61.1</td>\n",
       "      <td>4.9671</td>\n",
       "      <td>2.0</td>\n",
       "      <td>242.0</td>\n",
       "      <td>17.8</td>\n",
       "      <td>392.83</td>\n",
       "      <td>4.03</td>\n",
       "    </tr>\n",
       "    <tr>\n",
       "      <th>3</th>\n",
       "      <td>0.03237</td>\n",
       "      <td>0.0</td>\n",
       "      <td>2.18</td>\n",
       "      <td>0.0</td>\n",
       "      <td>0.458</td>\n",
       "      <td>6.998</td>\n",
       "      <td>45.8</td>\n",
       "      <td>6.0622</td>\n",
       "      <td>3.0</td>\n",
       "      <td>222.0</td>\n",
       "      <td>18.7</td>\n",
       "      <td>394.63</td>\n",
       "      <td>2.94</td>\n",
       "    </tr>\n",
       "    <tr>\n",
       "      <th>4</th>\n",
       "      <td>0.06905</td>\n",
       "      <td>0.0</td>\n",
       "      <td>2.18</td>\n",
       "      <td>0.0</td>\n",
       "      <td>0.458</td>\n",
       "      <td>7.147</td>\n",
       "      <td>54.2</td>\n",
       "      <td>6.0622</td>\n",
       "      <td>3.0</td>\n",
       "      <td>222.0</td>\n",
       "      <td>18.7</td>\n",
       "      <td>396.90</td>\n",
       "      <td>5.33</td>\n",
       "    </tr>\n",
       "  </tbody>\n",
       "</table>\n",
       "</div>"
      ],
      "text/plain": [
       "      CRIM    ZN  INDUS  CHAS    NOX     RM   AGE     DIS  RAD    TAX  \\\n",
       "0  0.00632  18.0   2.31   0.0  0.538  6.575  65.2  4.0900  1.0  296.0   \n",
       "1  0.02731   0.0   7.07   0.0  0.469  6.421  78.9  4.9671  2.0  242.0   \n",
       "2  0.02729   0.0   7.07   0.0  0.469  7.185  61.1  4.9671  2.0  242.0   \n",
       "3  0.03237   0.0   2.18   0.0  0.458  6.998  45.8  6.0622  3.0  222.0   \n",
       "4  0.06905   0.0   2.18   0.0  0.458  7.147  54.2  6.0622  3.0  222.0   \n",
       "\n",
       "   PTRATIO       B  LSTAT  \n",
       "0     15.3  396.90   4.98  \n",
       "1     17.8  396.90   9.14  \n",
       "2     17.8  392.83   4.03  \n",
       "3     18.7  394.63   2.94  \n",
       "4     18.7  396.90   5.33  "
      ]
     },
     "execution_count": 61,
     "metadata": {},
     "output_type": "execute_result"
    }
   ],
   "source": [
    "column_name = bos_hou.feature_names\n",
    "df_boston = pd.DataFrame(bos_hou.data)\n",
    "df_boston.columns = column_name\n",
    "df_boston.head()"
   ]
  },
  {
   "cell_type": "code",
   "execution_count": 68,
   "id": "2c4b9732",
   "metadata": {},
   "outputs": [
    {
     "data": {
      "text/plain": [
       "array(['CRIM', 'ZN', 'INDUS', 'CHAS', 'NOX', 'RM', 'AGE', 'DIS', 'RAD',\n",
       "       'TAX', 'PTRATIO', 'B', 'LSTAT'], dtype='<U7')"
      ]
     },
     "execution_count": 68,
     "metadata": {},
     "output_type": "execute_result"
    }
   ],
   "source": []
  },
  {
   "cell_type": "code",
   "execution_count": 69,
   "id": "3c5f2271",
   "metadata": {},
   "outputs": [],
   "source": [
    "import seaborn as sns"
   ]
  },
  {
   "cell_type": "code",
   "execution_count": 75,
   "id": "598941a8",
   "metadata": {},
   "outputs": [
    {
     "name": "stderr",
     "output_type": "stream",
     "text": [
      "/Library/Frameworks/Python.framework/Versions/3.10/lib/python3.10/site-packages/seaborn/_decorators.py:36: FutureWarning: Pass the following variable as a keyword arg: x. From version 0.12, the only valid positional argument will be `data`, and passing other arguments without an explicit keyword will result in an error or misinterpretation.\n",
      "  warnings.warn(\n"
     ]
    },
    {
     "data": {
      "text/plain": [
       "<AxesSubplot:xlabel='DIS'>"
      ]
     },
     "execution_count": 75,
     "metadata": {},
     "output_type": "execute_result"
    },
    {
     "data": {
      "image/png": "[encoded data removed]",
      "text/plain": [
       "<Figure size 432x288 with 1 Axes>"
      ]
     },
     "metadata": {
      "needs_background": "light"
     },
     "output_type": "display_data"
    }
   ],
   "source": [
    "sns.boxplot(df_boston['DIS'])"
   ]
  },
  {
   "cell_type": "code",
   "execution_count": 76,
   "id": "ec36fa11",
   "metadata": {},
   "outputs": [],
   "source": [
    "import numpy as np"
   ]
  },
  {
   "cell_type": "code",
   "execution_count": 77,
   "id": "0d184bea",
   "metadata": {},
   "outputs": [
    {
     "name": "stdout",
     "output_type": "stream",
     "text": [
      "(array([351, 352, 353, 354, 355]),)\n"
     ]
    }
   ],
   "source": [
    "print(np.where(df_boston['DIS']>10)) # index of ouliers"
   ]
  },
  {
   "cell_type": "code",
   "execution_count": 78,
   "id": "134556c6",
   "metadata": {},
   "outputs": [
    {
     "data": {
      "text/plain": [
       "0      4.0900\n",
       "1      4.9671\n",
       "2      4.9671\n",
       "3      6.0622\n",
       "4      6.0622\n",
       "        ...  \n",
       "501    2.4786\n",
       "502    2.2875\n",
       "503    2.1675\n",
       "504    2.3889\n",
       "505    2.5050\n",
       "Name: DIS, Length: 506, dtype: float64"
      ]
     },
     "execution_count": 78,
     "metadata": {},
     "output_type": "execute_result"
    }
   ],
   "source": [
    "df_boston['DIS']"
   ]
  },
  {
   "cell_type": "code",
   "execution_count": 79,
   "id": "b84d7208",
   "metadata": {},
   "outputs": [],
   "source": [
    "# values above 10 are showing larger variantion\n",
    "# from other values in the DIS column"
   ]
  },
  {
   "cell_type": "code",
   "execution_count": 80,
   "id": "5f5e9fb6",
   "metadata": {},
   "outputs": [
    {
     "data": {
      "text/plain": [
       "10.7103"
      ]
     },
     "execution_count": 80,
     "metadata": {},
     "output_type": "execute_result"
    }
   ],
   "source": [
    "df_boston['DIS'][351]"
   ]
  },
  {
   "cell_type": "code",
   "execution_count": 89,
   "id": "bd4fb3a6",
   "metadata": {},
   "outputs": [
    {
     "data": {
      "text/plain": [
       "array([ 4.09  ,  4.9671,  6.0622,  5.5605,  5.9505,  6.0821,  6.5921,\n",
       "        6.3467,  6.2267,  5.4509,  4.7075,  4.4619,  4.4986,  4.2579,\n",
       "        3.7965,  3.7979,  4.0123,  3.9769,  4.0952,  4.3996,  4.4546,\n",
       "        4.682 ,  4.4534,  4.4547,  4.239 ,  4.233 ,  4.175 ,  3.99  ,\n",
       "        3.7872,  3.7598,  3.3603,  3.3779,  3.9342,  3.8473,  5.4011,\n",
       "        5.7209,  5.1004,  5.6894,  5.87  ,  6.0877,  6.8147,  7.3197,\n",
       "        8.6966,  9.1876,  8.3248,  7.8148,  6.932 ,  7.2254,  6.8185,\n",
       "        7.2255,  7.9809,  9.2229,  6.6115,  6.498 ,  5.2873,  4.2515,\n",
       "        4.5026,  4.0522,  4.0905,  5.0141,  5.4007,  4.7794,  4.4377,\n",
       "        4.4272,  3.7476,  3.4217,  3.4145,  3.0923,  3.0921,  3.6659,\n",
       "        3.615 ,  3.4952,  2.7778,  2.8561,  2.7147,  2.421 ,  2.1069,\n",
       "        2.211 ,  2.1224,  2.4329,  2.5451,  2.6775,  2.3534,  2.548 ,\n",
       "        2.2565,  2.4631,  2.7301,  2.7474,  2.4775,  2.7592,  2.2577,\n",
       "        2.1974,  2.0869,  1.9444,  2.0063,  1.9929,  1.7572,  1.7883,\n",
       "        1.8125,  1.9799,  2.1185,  2.271 ,  2.3274,  2.4699,  2.346 ,\n",
       "        2.1107,  1.9669,  1.8498,  1.6686,  1.6687,  1.6119,  1.4394,\n",
       "        1.3216,  1.4118,  1.3459,  1.4191,  1.5166,  1.4608,  1.5296,\n",
       "        1.5257,  1.618 ,  1.5916,  1.6102,  1.6232,  1.7494,  1.7455,\n",
       "        1.7364,  1.8773,  1.7573,  1.7659,  1.7984,  1.9709,  2.0407,\n",
       "        2.162 ,  2.422 ,  2.2834,  2.0459,  2.4259,  2.1   ,  2.2625,\n",
       "        2.3887,  2.5961,  2.6463,  2.7019,  3.1323,  3.5549,  3.3175,\n",
       "        2.9153,  2.829 ,  2.741 ,  2.5979,  2.7006,  2.847 ,  2.9879,\n",
       "        3.2797,  3.1992,  3.7886,  4.5667,  6.4798,  6.2196,  5.6484,\n",
       "        7.309 ,  7.6534,  6.27  ,  5.118 ,  3.9454,  4.3549,  4.2392,\n",
       "        3.875 ,  3.8771,  3.665 ,  3.6526,  3.5875,  3.1121,  3.4211,\n",
       "        2.8893,  3.3633,  2.8617,  3.048 ,  3.2721,  2.8944,  3.2157,\n",
       "        3.3751,  3.6715,  3.8384,  3.6519,  4.148 ,  6.1899,  6.3361,\n",
       "        7.0355,  7.9549,  8.0555,  7.8265,  7.3967,  8.9067,  9.2203,\n",
       "        1.801 ,  1.8946,  2.0107,  2.1121,  2.1398,  2.2885,  2.0788,\n",
       "        1.9301,  1.9865,  2.1329,  2.4216,  2.872 ,  3.9175,  4.429 ,\n",
       "        4.3665,  4.0776,  4.2673,  4.7872,  4.8628,  4.1403,  4.1007,\n",
       "        4.6947,  5.2447,  5.2119,  5.885 ,  7.3073,  9.0892,  7.3172,\n",
       "        5.1167,  5.5027,  5.9604,  6.32  ,  7.8278,  5.4917,  4.022 ,\n",
       "        3.37  ,  3.0992,  3.1827,  3.1025,  2.5194,  2.6403,  2.834 ,\n",
       "        3.2628,  3.6023,  3.945 ,  3.9986,  4.0317,  3.5325,  4.0019,\n",
       "        4.5404,  4.7211,  5.4159,  5.2146,  5.8736,  6.6407,  6.4584,\n",
       "        5.9853,  5.2311,  5.615 ,  4.8122,  7.0379,  6.2669,  5.7321,\n",
       "        6.4654,  8.0136,  8.5353,  8.344 ,  8.7921, 10.7103, 12.1265,\n",
       "       10.5857,  2.1222,  2.5052,  2.7227,  2.5091,  2.5182,  2.2955,\n",
       "        2.1036,  1.9047,  1.6132,  1.7523,  1.5106,  1.3325,  1.3567,\n",
       "        1.2024,  1.1691,  1.1296,  1.1742,  1.137 ,  1.3163,  1.3449,\n",
       "        1.358 ,  1.3861,  1.4165,  1.5192,  1.5804,  1.5331,  1.4395,\n",
       "        1.4261,  1.4672,  1.5184,  1.5895,  1.7281,  1.9265,  2.1678,\n",
       "        1.77  ,  1.7912,  1.7821,  1.7257,  1.6768,  1.6334,  1.4896,\n",
       "        1.5004,  1.5888,  1.5741,  1.639 ,  1.7028,  1.6074,  1.4254,\n",
       "        1.1781,  1.2852,  1.4547,  1.4655,  1.413 ,  1.5275,  1.5539,\n",
       "        1.5894,  1.6582,  1.8347,  1.8195,  1.6475,  1.8026,  1.794 ,\n",
       "        1.8589,  1.8746,  1.9512,  2.0218,  2.0635,  1.9096,  1.9976,\n",
       "        1.8629,  1.9356,  1.9682,  2.0527,  2.0882,  2.2004,  2.3158,\n",
       "        2.2222,  2.1247,  2.0026,  1.9142,  1.8206,  1.8172,  1.8662,\n",
       "        2.0651,  2.0048,  1.9784,  1.8956,  1.9879,  2.072 ,  2.198 ,\n",
       "        2.2616,  2.185 ,  2.3236,  2.3552,  2.3682,  2.4527,  2.4961,\n",
       "        2.4358,  2.5806,  2.7792,  2.7831,  2.7175,  2.5975,  2.5671,\n",
       "        2.7344,  2.8016,  2.9634,  3.0665,  2.8715,  2.5403,  2.9084,\n",
       "        2.8237,  3.0334,  3.0993,  2.8965,  2.5329,  2.4298,  2.206 ,\n",
       "        2.3053,  2.1007,  2.1705,  3.4242,  3.3317,  3.4106,  4.0983,\n",
       "        3.724 ,  3.9917,  3.5459,  3.1523,  1.8209,  1.7554,  1.8226,\n",
       "        1.8681,  2.1099,  2.3817,  2.7986,  2.8927,  2.4091,  2.3999,\n",
       "        2.4982,  2.4786,  2.2875,  2.1675,  2.3889,  2.505 ])"
      ]
     },
     "execution_count": 89,
     "metadata": {},
     "output_type": "execute_result"
    }
   ],
   "source": [
    "df_boston['DIS'].unique()"
   ]
  },
  {
   "cell_type": "code",
   "execution_count": 90,
   "id": "5ab22020",
   "metadata": {},
   "outputs": [],
   "source": [
    "# treating the outliers by removing them"
   ]
  },
  {
   "cell_type": "code",
   "execution_count": 96,
   "id": "d07a4a02",
   "metadata": {},
   "outputs": [
    {
     "data": {
      "text/plain": [
       "(506, 13)"
      ]
     },
     "execution_count": 96,
     "metadata": {},
     "output_type": "execute_result"
    }
   ],
   "source": [
    "df_boston.shape # before removing outliers"
   ]
  },
  {
   "cell_type": "code",
   "execution_count": 98,
   "id": "28ee0f9d",
   "metadata": {},
   "outputs": [],
   "source": [
    "# after removing outliers"
   ]
  },
  {
   "cell_type": "code",
   "execution_count": 99,
   "id": "7f6768aa",
   "metadata": {},
   "outputs": [
    {
     "data": {
      "text/plain": [
       "(501, 13)"
      ]
     },
     "execution_count": 99,
     "metadata": {},
     "output_type": "execute_result"
    }
   ],
   "source": [
    "df_boston.drop(index=[351, 352, 353, 354, 355],axis=0).shape"
   ]
  },
  {
   "cell_type": "code",
   "execution_count": null,
   "id": "ed545b18",
   "metadata": {},
   "outputs": [],
   "source": []
  }
 ],
 "metadata": {
  "kernelspec": {
   "display_name": "Python 3 (ipykernel)",
   "language": "python",
   "name": "python3"
  },
  "language_info": {
   "codemirror_mode": {
    "name": "ipython",
    "version": 3
   },
   "file_extension": ".py",
   "mimetype": "text/x-python",
   "name": "python",
   "nbconvert_exporter": "python",
   "pygments_lexer": "ipython3",
   "version": "3.10.4"
  }
 },
 "nbformat": 4,
 "nbformat_minor": 5
}
