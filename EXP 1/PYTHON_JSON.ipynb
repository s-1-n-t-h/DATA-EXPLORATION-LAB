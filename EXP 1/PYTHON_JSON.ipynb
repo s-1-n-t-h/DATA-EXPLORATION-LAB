{
  "nbformat": 4,
  "nbformat_minor": 0,
  "metadata": {
    "colab": {
      "name": "PYTHON JSON",
      "provenance": [],
      "collapsed_sections": []
    },
    "kernelspec": {
      "name": "python3",
      "display_name": "Python 3"
    },
    "language_info": {
      "name": "python"
    }
  },
  "cells": [
    {
      "cell_type": "code",
      "execution_count": 1,
      "metadata": {
        "id": "sv7Qv3Gw5ABN"
      },
      "outputs": [],
      "source": [
        "import json"
      ]
    },
    {
      "cell_type": "code",
      "source": [
        "data = ['Disney Plus','Netflix','Peacock']\n",
        "json_string = json.dumps(data)\n",
        "print(json_string)"
      ],
      "metadata": {
        "colab": {
          "base_uri": "https://localhost:8080/"
        },
        "id": "PaPRGPpE51-F",
        "outputId": "70916f72-2e9d-437a-a99c-b0841fcd8570"
      },
      "execution_count": 2,
      "outputs": [
        {
          "output_type": "stream",
          "name": "stdout",
          "text": [
            "[\"Disney Plus\", \"Netflix\", \"Peacock\"]\n"
          ]
        }
      ]
    },
    {
      "cell_type": "code",
      "source": [
        "array = '{\"drinks\":[\"coffee\",\"tea\",\"water\"]}'\n",
        "\n",
        "data = json.loads(array)\n",
        "\n",
        "for element in data[\"drinks\"]:\n",
        "  print(element)"
      ],
      "metadata": {
        "colab": {
          "base_uri": "https://localhost:8080/"
        },
        "id": "md_Rp-dR5_3S",
        "outputId": "397272bf-b517-498c-962c-0cf3231bb5e3"
      },
      "execution_count": 5,
      "outputs": [
        {
          "output_type": "stream",
          "name": "stdout",
          "text": [
            "coffee\n",
            "tea\n",
            "water\n"
          ]
        }
      ]
    },
    {
      "cell_type": "code",
      "source": [
        ""
      ],
      "metadata": {
        "id": "FP2G1Idv6XIi"
      },
      "execution_count": null,
      "outputs": []
    }
  ]
}