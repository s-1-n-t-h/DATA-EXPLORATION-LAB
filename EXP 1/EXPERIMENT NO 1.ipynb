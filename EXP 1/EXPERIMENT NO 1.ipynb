{
 "cells": [
  {
   "cell_type": "code",
   "execution_count": 1,
   "id": "7fd2affe",
   "metadata": {},
   "outputs": [],
   "source": [
    "#a. Import Pandas"
   ]
  },
  {
   "cell_type": "code",
   "execution_count": 2,
   "id": "61cea10e",
   "metadata": {},
   "outputs": [],
   "source": [
    "import pandas as pd"
   ]
  },
  {
   "cell_type": "code",
   "execution_count": 3,
   "id": "e774901f",
   "metadata": {},
   "outputs": [],
   "source": [
    "#b. Loading the data various formats (.XLS, .TXT, .CSV, JSON) using Pandas"
   ]
  },
  {
   "cell_type": "code",
   "execution_count": 4,
   "id": "15eece44",
   "metadata": {},
   "outputs": [],
   "source": [
    "# XLS"
   ]
  },
  {
   "cell_type": "code",
   "execution_count": 5,
   "id": "fc36a655",
   "metadata": {},
   "outputs": [],
   "source": [
    "df1 = pd.read_excel(r\"D:\\20vv1a1263_2_2\\ss.xls\")"
   ]
  },
  {
   "cell_type": "code",
   "execution_count": 6,
   "id": "f7791bb0",
   "metadata": {},
   "outputs": [
    {
     "name": "stdout",
     "output_type": "stream",
     "text": [
      "      Row ID        Order ID Order Date  Ship Date       Ship Mode  \\\n",
      "0          1  CA-2013-152156 2013-11-09 2013-11-12    Second Class   \n",
      "1          2  CA-2013-152156 2013-11-09 2013-11-12    Second Class   \n",
      "2          3  CA-2013-138688 2013-06-13 2013-06-17    Second Class   \n",
      "3          4  US-2012-108966 2012-10-11 2012-10-18  Standard Class   \n",
      "4          5  US-2012-108966 2012-10-11 2012-10-18  Standard Class   \n",
      "...      ...             ...        ...        ...             ...   \n",
      "9989    9990  CA-2011-110422 2011-01-22 2011-01-24    Second Class   \n",
      "9990    9991  CA-2014-121258 2014-02-27 2014-03-04  Standard Class   \n",
      "9991    9992  CA-2014-121258 2014-02-27 2014-03-04  Standard Class   \n",
      "9992    9993  CA-2014-121258 2014-02-27 2014-03-04  Standard Class   \n",
      "9993    9994  CA-2014-119914 2014-05-05 2014-05-10    Second Class   \n",
      "\n",
      "     Customer ID     Customer Name    Segment        Country             City  \\\n",
      "0       CG-12520       Claire Gute   Consumer  United States        Henderson   \n",
      "1       CG-12520       Claire Gute   Consumer  United States        Henderson   \n",
      "2       DV-13045   Darrin Van Huff  Corporate  United States      Los Angeles   \n",
      "3       SO-20335    Sean O'Donnell   Consumer  United States  Fort Lauderdale   \n",
      "4       SO-20335    Sean O'Donnell   Consumer  United States  Fort Lauderdale   \n",
      "...          ...               ...        ...            ...              ...   \n",
      "9989    TB-21400  Tom Boeckenhauer   Consumer  United States            Miami   \n",
      "9990    DB-13060       Dave Brooks   Consumer  United States       Costa Mesa   \n",
      "9991    DB-13060       Dave Brooks   Consumer  United States       Costa Mesa   \n",
      "9992    DB-13060       Dave Brooks   Consumer  United States       Costa Mesa   \n",
      "9993    CC-12220      Chris Cortes   Consumer  United States      Westminster   \n",
      "\n",
      "      ... Postal Code  Region       Product ID         Category Sub-Category  \\\n",
      "0     ...       42420   South  FUR-BO-10001798        Furniture    Bookcases   \n",
      "1     ...       42420   South  FUR-CH-10000454        Furniture       Chairs   \n",
      "2     ...       90036    West  OFF-LA-10000240  Office Supplies       Labels   \n",
      "3     ...       33311   South  FUR-TA-10000577        Furniture       Tables   \n",
      "4     ...       33311   South  OFF-ST-10000760  Office Supplies      Storage   \n",
      "...   ...         ...     ...              ...              ...          ...   \n",
      "9989  ...       33180   South  FUR-FU-10001889        Furniture  Furnishings   \n",
      "9990  ...       92627    West  FUR-FU-10000747        Furniture  Furnishings   \n",
      "9991  ...       92627    West  TEC-PH-10003645       Technology       Phones   \n",
      "9992  ...       92627    West  OFF-PA-10004041  Office Supplies        Paper   \n",
      "9993  ...       92683    West  OFF-AP-10002684  Office Supplies   Appliances   \n",
      "\n",
      "                                           Product Name     Sales  Quantity  \\\n",
      "0                     Bush Somerset Collection Bookcase  261.9600         2   \n",
      "1     Hon Deluxe Fabric Upholstered Stacking Chairs,...  731.9400         3   \n",
      "2     Self-Adhesive Address Labels for Typewriters b...   14.6200         2   \n",
      "3         Bretford CR4500 Series Slim Rectangular Table  957.5775         5   \n",
      "4                        Eldon Fold 'N Roll Cart System   22.3680         2   \n",
      "...                                                 ...       ...       ...   \n",
      "9989                             Ultra Door Pull Handle   25.2480         3   \n",
      "9990  Tenex B1-RE Series Chair Mats for Low Pile Car...   91.9600         2   \n",
      "9991                              Aastra 57i VoIP phone  258.5760         2   \n",
      "9992  It's Hot Message Books with Stickers, 2 3/4\" x 5\"   29.6000         4   \n",
      "9993  Acco 7-Outlet Masterpiece Power Center, Wihtou...  243.1600         2   \n",
      "\n",
      "      Discount    Profit  \n",
      "0         0.00   41.9136  \n",
      "1         0.00  219.5820  \n",
      "2         0.00    6.8714  \n",
      "3         0.45 -383.0310  \n",
      "4         0.20    2.5164  \n",
      "...        ...       ...  \n",
      "9989      0.20    4.1028  \n",
      "9990      0.00   15.6332  \n",
      "9991      0.20   19.3932  \n",
      "9992      0.00   13.3200  \n",
      "9993      0.00   72.9480  \n",
      "\n",
      "[9994 rows x 21 columns]\n"
     ]
    }
   ],
   "source": [
    "print(df1)"
   ]
  },
  {
   "cell_type": "code",
   "execution_count": 7,
   "id": "421495a9",
   "metadata": {},
   "outputs": [],
   "source": [
    "#.txt"
   ]
  },
  {
   "cell_type": "code",
   "execution_count": 8,
   "id": "2c1e18b6",
   "metadata": {},
   "outputs": [],
   "source": [
    "df2 = pd.read_csv(r'D:\\20vv1a1263_2_2\\hey.txt',sep=' ',header=None)"
   ]
  },
  {
   "cell_type": "code",
   "execution_count": 9,
   "id": "7a6b6838",
   "metadata": {},
   "outputs": [
    {
     "name": "stdout",
     "output_type": "stream",
     "text": [
      "       0      1\n",
      "0  hello  world\n"
     ]
    }
   ],
   "source": [
    "print(df2)"
   ]
  },
  {
   "cell_type": "code",
   "execution_count": 10,
   "id": "923f2625",
   "metadata": {},
   "outputs": [],
   "source": [
    "#. csv"
   ]
  },
  {
   "cell_type": "code",
   "execution_count": 11,
   "id": "ec797c3c",
   "metadata": {},
   "outputs": [],
   "source": [
    "df3 = pd.read_csv(r'D:\\20vv1a1263_2_2\\rd.csv')"
   ]
  },
  {
   "cell_type": "code",
   "execution_count": 12,
   "id": "3216d47e",
   "metadata": {},
   "outputs": [
    {
     "name": "stdout",
     "output_type": "stream",
     "text": [
      "                                            Footnotes\n",
      "0                                          Footnotes:\n",
      "1   1. Sector and published industry breakdowns ac...\n",
      "2   2. GDP is based on Stats NZ's GDP current pric...\n",
      "3   3. Sourced from Organisation for Economic Co-o...\n",
      "4   4. Figures for Australia are collected in odd ...\n",
      "5   5. Figures for Switzerland are collected inter...\n",
      "6   6. Results for this category should be treated...\n",
      "7   7. Includes a wide range of ANZSIC industry co...\n",
      "8   8. Some categories or groups may not equal the...\n",
      "9   9. In 2019 the R&D Survey was conducted only f...\n",
      "10  10. Respondents are asked to allocate to each ...\n",
      "11  11. Includes 'defence' and 'other' research pu...\n",
      "12  12. Includes New Zealand local government agen...\n",
      "13  13. Basic research is carried out to advance k...\n",
      "14  14. Applied research is investigation undertak...\n",
      "15  15. Experimental research is systematic work u...\n",
      "16  16. Pure basic research is research to pursue ...\n",
      "17  17. Targeted basic research is research to pro...\n",
      "18  18. Businesses were asked to indicate one main...\n",
      "19  19. Based on Rolling Mean employment. See Data...\n",
      "20  20. Dollar figures exclude GST and are rounded...\n",
      "21  21. Underlying counts of businesses are random...\n",
      "22  22. Underlying counts of employees are rounded...\n",
      "23                                             Notes:\n",
      "24  Due to small changes in population and sample ...\n",
      "25  Due to rounding, figures may not add to stated...\n",
      "26                                           Symbols:\n",
      "27                            ... Data not collected.\n",
      "28                             .. Data not applicable\n",
      "29                                     C Confidential\n",
      "30                    S Supressed for quality reasons\n"
     ]
    }
   ],
   "source": [
    "print(df3)"
   ]
  },
  {
   "cell_type": "code",
   "execution_count": 13,
   "id": "b3da1f8c",
   "metadata": {},
   "outputs": [],
   "source": [
    "#json"
   ]
  },
  {
   "cell_type": "code",
   "execution_count": 14,
   "id": "aba0d37b",
   "metadata": {},
   "outputs": [],
   "source": [
    "df4 = pd.read_csv(r'D:\\20vv1a1263_2_2\\js.json')"
   ]
  },
  {
   "cell_type": "code",
   "execution_count": 15,
   "id": "2d2d0b3b",
   "metadata": {},
   "outputs": [
    {
     "name": "stdout",
     "output_type": "stream",
     "text": [
      "                                                       {\n",
      "   \"firstName\": \"Joe\"                                NaN\n",
      "   \"lastName\": \"Jackson\"                             NaN\n",
      "   \"gender\": \"male\"                                  NaN\n",
      "   \"age\": 28                                         NaN\n",
      "   \"address\": {                                      NaN\n",
      "       \"streetAddress\": \"101\"                        NaN\n",
      "       \"city\": \"San Diego\"                           NaN\n",
      "       \"state\": \"CA\"                                 NaN\n",
      "   }                                                 NaN\n",
      "   \"phoneNumbers\": [                                 NaN\n",
      "       { \"type\": \"home\"         \"number\": \"7349282382\" }\n",
      "   ]                                                 NaN\n",
      "}                                                    NaN\n"
     ]
    }
   ],
   "source": [
    "print(df4)"
   ]
  },
  {
   "cell_type": "code",
   "execution_count": 16,
   "id": "894cdd23",
   "metadata": {},
   "outputs": [],
   "source": [
    "#c. Describe Data, Modify Data, Grouping Data, Filtering Data\n"
   ]
  },
  {
   "cell_type": "code",
   "execution_count": 17,
   "id": "6a970b34",
   "metadata": {},
   "outputs": [],
   "source": [
    "# describing data -- describe()"
   ]
  },
  {
   "cell_type": "code",
   "execution_count": 18,
   "id": "933644cf",
   "metadata": {},
   "outputs": [
    {
     "data": {
      "text/plain": [
       "count    3.0\n",
       "mean     2.0\n",
       "std      1.0\n",
       "min      1.0\n",
       "25%      1.5\n",
       "50%      2.0\n",
       "75%      2.5\n",
       "max      3.0\n",
       "dtype: float64"
      ]
     },
     "execution_count": 18,
     "metadata": {},
     "output_type": "execute_result"
    }
   ],
   "source": [
    "frame = pd.Series([1, 2, 3])  \n",
    "frame.describe()  "
   ]
  },
  {
   "cell_type": "code",
   "execution_count": 25,
   "id": "cea92128",
   "metadata": {},
   "outputs": [
    {
     "data": {
      "text/plain": [
       "count     4\n",
       "unique    3\n",
       "top       q\n",
       "freq      2\n",
       "dtype: object"
      ]
     },
     "execution_count": 25,
     "metadata": {},
     "output_type": "execute_result"
    }
   ],
   "source": [
    "frame = pd.Series(['p', 'q', 'q', 'r'])  \n",
    "frame.describe()  "
   ]
  },
  {
   "cell_type": "code",
   "execution_count": 26,
   "id": "3d11c80e",
   "metadata": {},
   "outputs": [],
   "source": [
    "#modifying data"
   ]
  },
  {
   "cell_type": "code",
   "execution_count": 27,
   "id": "1b884d9c",
   "metadata": {},
   "outputs": [],
   "source": [
    "#rename"
   ]
  },
  {
   "cell_type": "code",
   "execution_count": 30,
   "id": "a8598fdd",
   "metadata": {},
   "outputs": [],
   "source": [
    "data = {'country': ['Italy','Spain','Greece','France','Portugal'],\n",
    "        'popu': [61, 46, 11, 65, 10],\n",
    "        'percent': [0.83,0.63,0.15,0.88,0.14]}"
   ]
  },
  {
   "cell_type": "code",
   "execution_count": 31,
   "id": "69e66974",
   "metadata": {},
   "outputs": [],
   "source": [
    "df = pd.DataFrame(data, index=['ITA', 'ESP', 'GRC', 'FRA', 'PRT'])"
   ]
  },
  {
   "cell_type": "raw",
   "id": "3a0134a3",
   "metadata": {},
   "source": [
    "print(df)"
   ]
  },
  {
   "cell_type": "code",
   "execution_count": 23,
   "id": "922f9c4a",
   "metadata": {},
   "outputs": [],
   "source": [
    "#d. Converting a variable to a different data type back to a CSV, JSON, or SQL"
   ]
  },
  {
   "cell_type": "code",
   "execution_count": null,
   "id": "067675bb",
   "metadata": {},
   "outputs": [],
   "source": []
  }
 ],
 "metadata": {
  "kernelspec": {
   "display_name": "Python 3",
   "language": "python",
   "name": "python3"
  },
  "language_info": {
   "codemirror_mode": {
    "name": "ipython",
    "version": 3
   },
   "file_extension": ".py",
   "mimetype": "text/x-python",
   "name": "python",
   "nbconvert_exporter": "python",
   "pygments_lexer": "ipython3",
   "version": "3.8.8"
  }
 },
 "nbformat": 4,
 "nbformat_minor": 5
}
